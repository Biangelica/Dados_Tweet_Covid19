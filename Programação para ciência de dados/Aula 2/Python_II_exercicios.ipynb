{
  "nbformat": 4,
  "nbformat_minor": 0,
  "metadata": {
    "kernelspec": {
      "display_name": "Python 3",
      "language": "python",
      "name": "python3"
    },
    "language_info": {
      "codemirror_mode": {
        "name": "ipython",
        "version": 3
      },
      "file_extension": ".py",
      "mimetype": "text/x-python",
      "name": "python",
      "nbconvert_exporter": "python",
      "pygments_lexer": "ipython3",
      "version": "3.8.5"
    },
    "colab": {
      "provenance": [],
      "include_colab_link": true
    }
  },
  "cells": [
    {
      "cell_type": "markdown",
      "metadata": {
        "id": "view-in-github",
        "colab_type": "text"
      },
      "source": [
        "<a href=\"https://colab.research.google.com/github/Biangelica/Dados_Tweet_Covid19/blob/main/Programa%C3%A7%C3%A3o%20para%20ci%C3%AAncia%20de%20dados/Aula%202/Python_II_exercicios.ipynb\" target=\"_parent\"><img src=\"https://colab.research.google.com/assets/colab-badge.svg\" alt=\"Open In Colab\"/></a>"
      ]
    },
    {
      "cell_type": "markdown",
      "metadata": {
        "id": "YRuQfjG7jPDg"
      },
      "source": [
        "# <span style=\"color:blue\"> MBA em Ciência de Dados</span>\n",
        "# <span style=\"color:blue\">Programação para Ciência de Dados</span>\n",
        "\n",
        "## <span style=\"color:blue\">Exercícios Python Parte II</span>\n",
        "**Material Produzido por Luis Gustavo Nonato**<br>\n",
        "**Cemeai - ICMC/USP São Carlos**"
      ]
    },
    {
      "cell_type": "markdown",
      "metadata": {
        "id": "Pdh0qGE0jPDl"
      },
      "source": [
        "#### <span style=\"color:red\">Recomenda-se fortemente que os exercícios sejam feitos sem consultar as respostas antecipadamente.</span>"
      ]
    },
    {
      "cell_type": "markdown",
      "metadata": {
        "id": "6bULgIjJjPDm"
      },
      "source": [
        "### Exercício 1)"
      ]
    },
    {
      "cell_type": "markdown",
      "metadata": {
        "id": "BFbk3dhsjPDm"
      },
      "source": [
        "**1.1** No código abaixo, explique por que o valor da variável `y` não é o mesmo que o valor de `x` após a operação `x = x+1`."
      ]
    },
    {
      "cell_type": "code",
      "metadata": {
        "id": "1vKxIn2DjPDm",
        "colab": {
          "base_uri": "https://localhost:8080/"
        },
        "outputId": "5a5d2510-d3ee-44cd-c76c-760ffde1180e"
      },
      "source": [
        "x = 3\n",
        "y = x\n",
        "print(x,y)\n",
        "x = x+1\n",
        "print(x,y)"
      ],
      "execution_count": 1,
      "outputs": [
        {
          "output_type": "stream",
          "name": "stdout",
          "text": [
            "3 3\n",
            "4 3\n"
          ]
        }
      ]
    },
    {
      "cell_type": "markdown",
      "metadata": {
        "id": "9hbR9r2FjPDn"
      },
      "source": [
        "**Resposta:**"
      ]
    },
    {
      "cell_type": "code",
      "metadata": {
        "id": "vAw_Nry2jPDn",
        "colab": {
          "base_uri": "https://localhost:8080/"
        },
        "outputId": "2e35645f-e7dc-4d06-ebd6-2a72019c9d58"
      },
      "source": [
        "print(id(x))\n",
        "print(id(y))"
      ],
      "execution_count": 2,
      "outputs": [
        {
          "output_type": "stream",
          "name": "stdout",
          "text": [
            "132363955421520\n",
            "132363955421488\n"
          ]
        }
      ]
    },
    {
      "cell_type": "markdown",
      "source": [
        "**Resposta:** *No código acima, o valor da variável y não é o mesmo que o valor de x após a operação x = x+1, devido ao fato de que a várivel y está guardando o endereço de memória de x = 3, quando é realizado a operação x= x + 1 um novo endereço de memória é guardado para armazenar a resposta dessa operação.*"
      ],
      "metadata": {
        "id": "lC9jiJaHM6t5"
      }
    },
    {
      "cell_type": "markdown",
      "metadata": {
        "id": "dr-Sea_zjPDn"
      },
      "source": [
        "**1.2** No código abaixo, explique por que o conteúdo da variável `y` também é afetado quando um novo elemento é adicionado à lista referenciada por `x`."
      ]
    },
    {
      "cell_type": "code",
      "metadata": {
        "id": "95ABvrG2jPDn",
        "colab": {
          "base_uri": "https://localhost:8080/"
        },
        "outputId": "55187187-dd1b-4848-d297-5d840059e829"
      },
      "source": [
        "x = [3]\n",
        "y = x\n",
        "print(x,y)\n",
        "x.append(1)\n",
        "print(x,y)"
      ],
      "execution_count": 3,
      "outputs": [
        {
          "output_type": "stream",
          "name": "stdout",
          "text": [
            "[3] [3]\n",
            "[3, 1] [3, 1]\n"
          ]
        }
      ]
    },
    {
      "cell_type": "markdown",
      "metadata": {
        "id": "YihrK6m8jPDo"
      },
      "source": [
        "**Resposta:** *Isso acontece devido ao fato da váriavel Y estar apontando para o endereço de memória que a váriavel x, quando o valor da váriavel x é alterado utlizando as funções do objeto list (sem ser operação pois cria-se um novo endereço de memoria), y irá receber o novo valor de x*"
      ]
    },
    {
      "cell_type": "markdown",
      "metadata": {
        "id": "KxqASTBujPDo"
      },
      "source": [
        "**1.3** No código abaixo, explique por que o conteúdo da variável `y` NÃO afetado após a operação `x = x+[1]`."
      ]
    },
    {
      "cell_type": "code",
      "metadata": {
        "id": "etpIR6QzjPDo",
        "colab": {
          "base_uri": "https://localhost:8080/"
        },
        "outputId": "6db61022-85fc-4de3-be7c-099b92b37cb5"
      },
      "source": [
        "x = [3]\n",
        "y = x\n",
        "print(x,y)\n",
        "x = x+[1]\n",
        "print(x,y)"
      ],
      "execution_count": 4,
      "outputs": [
        {
          "output_type": "stream",
          "name": "stdout",
          "text": [
            "[3] [3]\n",
            "[3, 1] [3]\n"
          ]
        }
      ]
    },
    {
      "cell_type": "markdown",
      "metadata": {
        "id": "4APTG6kujPDo"
      },
      "source": [
        "**Resposta:** A variavel Y não é afetada devido ao fato de a inserção na lista estar sendo realizada como uma operação, nesse caso o valor original de x se mantêm 3 e como a questão anterior não é realmente o valor x sendo alterado, e sim um novo endereço de memoria efetuando a operação x = x+[1] e guardando o resultado"
      ]
    },
    {
      "cell_type": "markdown",
      "metadata": {
        "id": "DLXnfiUnjPDo"
      },
      "source": [
        "### Exercício 2)\n",
        "Considere a lista `pessoas` abaixo. Escreva um códico para remover todos os nomes da lista que começam com as letras 'A' e 'M', inserindo estes nomes em uma nova lista chamada `pessoasAM`."
      ]
    },
    {
      "cell_type": "code",
      "metadata": {
        "id": "yA69aRl-jPDp",
        "colab": {
          "base_uri": "https://localhost:8080/"
        },
        "outputId": "17a38f06-6d83-432a-8814-031dff8a7bc6"
      },
      "source": [
        "pessoas = ['Miguel','Sophia','Davi','Alice','Arthur','Julia','Pedro','Isabella','Gabriel',\n",
        "           'Manuela','Laura']\n",
        "\n",
        "pessoasAM = [pessoa for pessoa in pessoas if pessoa.startswith('A') or pessoa.startswith('M')]\n",
        "\n",
        "print(pessoasAM)\n",
        "\n",
        "# Escreva o código aqui"
      ],
      "execution_count": 10,
      "outputs": [
        {
          "output_type": "stream",
          "name": "stdout",
          "text": [
            "['Miguel', 'Alice', 'Arthur', 'Manuela']\n"
          ]
        }
      ]
    },
    {
      "cell_type": "markdown",
      "metadata": {
        "id": "XhBHJYm3jPDp"
      },
      "source": [
        "### Exercício 3)\n",
        "Crie um dicionário cujas chaves são as strings da lista `pessoas` definida no exercício anterior, sendo o comprimento da string correspondentes o valor associado a chave. Utilize comprehension para criar o dicionário. Por exemplo:\n",
        "```python\n",
        "{'Miguel': 6, 'Sophia': 6, 'Davi': 4,...}\n",
        "```"
      ]
    },
    {
      "cell_type": "code",
      "metadata": {
        "id": "up0uKilYjPDp",
        "colab": {
          "base_uri": "https://localhost:8080/"
        },
        "outputId": "873db0a5-a12d-49cd-da01-a5b5c6defd58"
      },
      "source": [
        "pessoas = ['Miguel','Sophia','Davi','Alice','Arthur','Julia','Pedro','Isabella','Gabriel','Manuela','Laura']\n",
        "# Escreva o código aqui\n",
        "\n",
        "dt = {x: len(x) for x in pessoas}\n",
        "\n",
        "print(dt)"
      ],
      "execution_count": 20,
      "outputs": [
        {
          "output_type": "stream",
          "name": "stdout",
          "text": [
            "{'Miguel': 6, 'Sophia': 6, 'Davi': 4, 'Alice': 5, 'Arthur': 6, 'Julia': 5, 'Pedro': 5, 'Isabella': 8, 'Gabriel': 7, 'Manuela': 7, 'Laura': 5}\n"
          ]
        }
      ]
    },
    {
      "cell_type": "markdown",
      "metadata": {
        "id": "nSeVwbvojPDp"
      },
      "source": [
        "### Exercício 4)\n",
        "Considere a lista `pessoas` abaixo. Modifique os elementos da lista fazendo que com que o último caracter de cada elemento fique maiúsculo caso tal caractere seja uma vogal. Utilize o método <font color='blue'>'.upper'</font> de objetos string para converter um caracter em maiúsculo. Por exemplo, o método <font color='blue'>'.upper'</font> no código abaixo:\n",
        "```python\n",
        "x = 'abc'.upper()\n",
        "print(x)\n",
        "```\n",
        "resulta em `ABC`. Você não deve utilizar um laço <font color='blue'>'for'</font>, apenas comprehension."
      ]
    },
    {
      "cell_type": "code",
      "metadata": {
        "id": "aZkQbcMDjPDp",
        "colab": {
          "base_uri": "https://localhost:8080/"
        },
        "outputId": "4cf01845-40e7-43ad-a0e6-3478f284d5ff"
      },
      "source": [
        "pessoas = ['Miguel','Sophia','Davi','Alice','Arthur','Julia','Pedro','Isabella','Gabriel','Manuela','Laura']\n",
        "# Escreva o código aqui\n",
        "\n",
        "vogais = {'a', 'e', 'i', 'o', 'u'}\n",
        "\n",
        "pessoas_mod = [pessoa[:-1] + pessoa[-1].upper()  if pessoa[-1].lower() in vogais else pessoa for pessoa in pessoas]\n",
        "\n",
        "print(pessoas_mod)"
      ],
      "execution_count": 23,
      "outputs": [
        {
          "output_type": "stream",
          "name": "stdout",
          "text": [
            "['Miguel', 'SophiA', 'DavI', 'AlicE', 'Arthur', 'JuliA', 'PedrO', 'IsabellA', 'Gabriel', 'ManuelA', 'LaurA']\n"
          ]
        }
      ]
    },
    {
      "cell_type": "markdown",
      "metadata": {
        "id": "uStoN3C3jPDp"
      },
      "source": [
        "### Exercício 5)\n",
        "Escreva uma função chamda `div3e5` que recebe como parâmetro um número. Se o número for divisível por 3 a função retorna `div3`, se for divisível por 5 retorna `div5`, se for divisível por 3 e 5 retorna `div3div5`, senão retorna o próprio número. Aplique a função na lista `teste` abaixo e utilize comprehension para gerar uma nova lista com os resultados correspondentes. Por exemplo, dada a lista:\n",
        "```python\n",
        "[30, 21, 21, 49, 39, 49, 19,  5, 17,  4]\n",
        "```\n",
        "o código deve produzir\n",
        "```python\n",
        "['div3div5', 'div3', 'div3', 49, 'div3', 49, 19, 'div5', 17, 4]\n",
        "```"
      ]
    },
    {
      "cell_type": "code",
      "metadata": {
        "id": "77I618NZjPDq",
        "colab": {
          "base_uri": "https://localhost:8080/"
        },
        "outputId": "9307063a-ada3-4554-d3e4-c8c715a252d5"
      },
      "source": [
        "teste = [4, 7, 33, 20, 30, 34, 15, 3, 17, 39, 21, 26, 32, 10, 34, 42, 41, 18, 7, 36]\n",
        "\n",
        "def div3e5(numero):\n",
        "    # Escreva o código aqui\n",
        "    if numero % 3 == 0 and numero % 5 == 0:\n",
        "        return 'div3div5'\n",
        "    elif numero % 3 == 0:\n",
        "        return 'div3'\n",
        "    elif numero % 5 == 0:\n",
        "        return 'div5'\n",
        "    else:\n",
        "        return numero\n",
        "\n",
        "nova_lista = [div3e5(numero) for numero in teste]\n",
        "\n",
        "print(nova_lista)"
      ],
      "execution_count": 39,
      "outputs": [
        {
          "output_type": "stream",
          "name": "stdout",
          "text": [
            "[4, 7, 'div3', 'div5', 'div3div5', 34, 'div3div5', 'div3', 17, 'div3', 'div3', 26, 32, 'div5', 34, 'div3', 41, 'div3', 7, 'div3']\n"
          ]
        }
      ]
    },
    {
      "cell_type": "markdown",
      "metadata": {
        "id": "ynf1pLUdjPDq"
      },
      "source": [
        "### Exercício 6)\n",
        "Considere a lista `numeros` abaixo que contém números inteiros entre 0 e 5. Escreva uma função chamda `ocorrencias` que recebe a lista `numeros` como parâmetro e retorna um dicionário onde as chaves são números de 0 a 5 e os valores associados correspondem ao número de vezes que a chave aparece na lista. Por exemplo, o código abaixo:\n",
        "```python\n",
        "numeros = [2, 1, 1, 2, 0, 2, 0, 1, 4, 1]\n",
        "print(ocorrencias(numeros))\n",
        "```\n",
        "deve gerar o seguinte resultado:\n",
        "```python\n",
        "{0: 2, 1: 4, 2: 3, 3: 0, 4: 1, 5: 0}\n",
        "```\n",
        "Tente não utilizar um laço <font color='blue'>'for'</font>, mas sim comprehension para dicionários."
      ]
    },
    {
      "cell_type": "code",
      "metadata": {
        "id": "4bIm9xi0jPDq",
        "colab": {
          "base_uri": "https://localhost:8080/"
        },
        "outputId": "0ee7a2f6-2d50-4fc6-a1d2-a6aaf6d0ca57"
      },
      "source": [
        "numeros = [1, 5, 1, 4, 3, 2, 4, 0, 0, 0, 3, 0, 2, 1, 0, 0, 4, 0, 5, 4]\n",
        "\n",
        "def ocorrencias(l):\n",
        "    return {x:numeros.count(x) for x in numeros }\n",
        "\n",
        "print(ocorrencias(numeros))"
      ],
      "execution_count": 34,
      "outputs": [
        {
          "output_type": "stream",
          "name": "stdout",
          "text": [
            "{1: 3, 5: 2, 4: 4, 3: 2, 2: 2, 0: 7}\n"
          ]
        }
      ]
    },
    {
      "cell_type": "markdown",
      "metadata": {
        "id": "3YhUAQCYjPDq"
      },
      "source": [
        "### Exercício 7)\n",
        "Escreva uma função `retorna_maiuscula` que recebe um caractere como parâmetro e retorna o caracter em maiúsculo caso ele seja uma vogal. Utilize a função `retorna_maiuscula` para converter todas as vogais de uma string em maiúsculas.\n",
        "Por exemplo:\n",
        "```python\n",
        "'string para testar a funcao'\n",
        "```\n",
        "deve ser transformada em:\n",
        "```python\n",
        "'strIng pArA tEstAr A fUncAO'\n",
        "```\n",
        "Não utilize um laço <font color='blue'>'for'</font> em seu código.\n",
        "\n",
        "__Dica:__ Armazene os resultados da função `retorna_maiuscula` em uma lista e utilize a função <font color='blue'>.join</font> para converter a lista em uma string."
      ]
    },
    {
      "cell_type": "code",
      "metadata": {
        "id": "kbQ78-FBjPDq",
        "colab": {
          "base_uri": "https://localhost:8080/"
        },
        "outputId": "c30e565e-7347-4185-9813-915c86b3c0ac"
      },
      "source": [
        "def retorna_maiuscula(s):\n",
        "  vogais = {'a', 'e', 'i', 'o', 'u'}\n",
        "  lista = [x.upper() if x in vogais else x for x in s]\n",
        "  return ''.join(lista)\n",
        "                             # Escreva o código aqui\n",
        "print(retorna_maiuscula('string para testar a funcao'))\n"
      ],
      "execution_count": 33,
      "outputs": [
        {
          "output_type": "stream",
          "name": "stdout",
          "text": [
            "strIng pArA tEstAr A fUncAO\n"
          ]
        }
      ]
    },
    {
      "cell_type": "markdown",
      "metadata": {
        "id": "-xZENba5jPDr"
      },
      "source": [
        "### Exercício 8)\n",
        "Repita o exercício 6) utilizando a função <font color='blue'>'lambda'</font> ao invés de uma função declarada pelo comando <font color='blue'>'def'</font>."
      ]
    },
    {
      "cell_type": "code",
      "metadata": {
        "id": "mJzu7XZ9jPDr",
        "colab": {
          "base_uri": "https://localhost:8080/"
        },
        "outputId": "701bb140-abb2-40ab-9c6e-73a376aa3f2d"
      },
      "source": [
        " # Escreva o código aqui\n",
        "\n",
        "\n",
        " numeros = [1, 5, 1, 4, 3, 2, 4, 0, 0, 0, 3, 0, 2, 1, 0, 0, 4, 0, 5, 4 ]\n",
        "\n",
        " ocorrencias  = lambda l: {x: l.count(x) for x in l}\n",
        "\n",
        "print(ocorrencias(numeros))"
      ],
      "execution_count": 41,
      "outputs": [
        {
          "output_type": "stream",
          "name": "stdout",
          "text": [
            "{1: 3, 5: 2, 4: 4, 3: 2, 2: 2, 0: 7}\n"
          ]
        }
      ]
    },
    {
      "cell_type": "markdown",
      "metadata": {
        "id": "j8usO24FjPDr"
      },
      "source": [
        "### Exercício 9)\n",
        "Escreva uma função `intersecao` que recebe duas listas como parâmetros e retorna uma outra lista contendo apenas os elementos que aparencem em ambas, sem repetição de elementos.\n",
        "Por exemplo, o código abaixo:\n",
        "```python\n",
        "s1 = ['a', 'f', 'o', 'i', 'n', 'f', 'g', 'a', 'o', 'i']\n",
        "s2 = ['l', 'k', 'j', 'f', 'a', 'j', 'i']\n",
        "print(intersecao(s1,s2))\n",
        "```\n",
        "deve resultar em\n",
        "```python\n",
        "['a', 'f', 'i']\n",
        "```\n",
        "__Dica:__ Utilize dicionário para encontrar os elementos únicos em cada lista. Você também pode converter a lista para uma váriavel tipo conjunto utilizando o comando <font color='blue'>set</font> disponível no python. Conjuntos não possuem elementos repetidos."
      ]
    },
    {
      "cell_type": "code",
      "metadata": {
        "id": "jM_fTiSNjPDr",
        "colab": {
          "base_uri": "https://localhost:8080/"
        },
        "outputId": "8e93ff6d-b7a9-4313-ff86-40122c6b6197"
      },
      "source": [
        "\n",
        "def intersecao(l1,l2):\n",
        "  return list(set(l1) & set(l2))\n",
        "\n",
        "\n",
        "s1 = ['a', 'f', 'o', 'i', 'n', 'f', 'g', 'a', 'o', 'i']\n",
        "s2 = ['l', 'k', 'j', 'f', 'a', 'j', 'i']\n",
        "\n",
        "print(intersecao(s1,s2))"
      ],
      "execution_count": 42,
      "outputs": [
        {
          "output_type": "stream",
          "name": "stdout",
          "text": [
            "['a', 'i', 'f']\n"
          ]
        }
      ]
    },
    {
      "cell_type": "markdown",
      "metadata": {
        "id": "qdRPcylZjPDr"
      },
      "source": [
        "### Exercício 10)\n",
        "As funções <font color='blue'>lambda</font>, também chamada de _funções anônimas_, são muito utilizadas quando se invoca um método (ou função) que aceita outra função como parâmetro. Por exemplo, a função <font color='blue'>sorted</font> aceita uma função com parâmetro, a qual é aplicada aos elementos da lista antes que a ordenação seja feita. Por exemplo:\n",
        "```python\n",
        "numeros = [0.11, -0.11, 0.4, 0.11, -0.57, -0.05, 0.85, -0.27, -0.07, -0.78]\n",
        "print(sorted(numeros,key=lambda x:x**2))\n",
        "```\n",
        "resulta nos elementos ordenados, mas como se eles estivessem elevados ao quadrado, ou seja, o resultado é:\n",
        "```python\n",
        "[-0.05, -0.07, 0.11, -0.11, 0.11, -0.27, 0.4, -0.57, -0.78, 0.85]\n",
        "```\n",
        "pois quando elevados ao quadrado e ordenados, os elementos da lista `numeros` resultam em:\n",
        "```python\n",
        "[0.0025, 0.0049, 0.0121, 0.0121, 0.0121, 0.0729, 0.1600, 0.3248, 0.6084, 0.7224]\n",
        "```\n",
        "\n",
        "Utilize a função <font color='blue'>lambda</font> combinada com o método <font color='blue'>sorted</font> para colocar todos os números múltiplos de 3 na parte esquerda de uma lista, ficando os demais números a direita. Por exemplo, a lista:\n",
        "```python\n",
        "[17, 46, 21, 16, 44, 1, 6, 5, 27, 24]\n",
        "```\n",
        "deve ficar organizada como:\n",
        "```python\n",
        "[21, 6, 27, 24, 17, 46, 16, 44, 1, 5]\n",
        "```\n",
        "onde `21, 6, 27, 24` ficam a esquerda, pois são múltipos de 3, equanto\n",
        "`17, 46, 16, 44, 1, 5` ficam a direita pois não são múltiplos de 3.\n",
        "\n",
        "Como teste para seu código, utilize a lista\n",
        "```python\n",
        "[2, 17, 12, 35, 39, 35, 4, 44, 12, 20, 7, 1, 21, 45, 43, 26, 6, 13, 48, 42]\n",
        "```\n",
        "que deve ficar organizada da seguinte forma:\n",
        "```python\n",
        "[12, 39, 12, 21, 45, 6, 48, 42, 2, 17, 35, 35, 4, 44, 20, 7, 1, 43, 26, 13]\n",
        "```"
      ]
    },
    {
      "cell_type": "code",
      "metadata": {
        "id": "DyGB9wuQjPDs",
        "colab": {
          "base_uri": "https://localhost:8080/"
        },
        "outputId": "913ec7fb-1f75-4cc1-82ce-8814be9c13e3"
      },
      "source": [
        "n = [2, 17, 12, 35, 39, 35, 4, 44, 12, 20, 7, 1, 21, 45, 43, 26, 6, 13, 48, 42]\n",
        " # Escreva o código aqui\n",
        "\n",
        "print(sorted(n,key=lambda x: x % 3 != 0))"
      ],
      "execution_count": 45,
      "outputs": [
        {
          "output_type": "stream",
          "name": "stdout",
          "text": [
            "[12, 39, 12, 21, 45, 6, 48, 42, 2, 17, 35, 35, 4, 44, 20, 7, 1, 43, 26, 13]\n"
          ]
        }
      ]
    }
  ]
}